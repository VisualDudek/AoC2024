{
 "cells": [
  {
   "cell_type": "markdown",
   "metadata": {},
   "source": [
    "can you go faster with `int(str(a) + str(b))` ?\n",
    "\n",
    "You can do `a * pow(10, num_digits(b)) + b` where `numb_digits()` is CRAZY"
   ]
  },
  {
   "cell_type": "code",
   "execution_count": 5,
   "metadata": {},
   "outputs": [],
   "source": [
    "def num_digits(n: int) -> int:\n",
    "    assert n > 0\n",
    "    i = int(0.30102999566398114 * (n.bit_length() - 1)) + 1\n",
    "    return (10 ** i <= n) + i"
   ]
  },
  {
   "cell_type": "code",
   "execution_count": 6,
   "metadata": {},
   "outputs": [],
   "source": [
    "def get_concat_int(a: int, b: int) -> int:\n",
    "    return a * 10 ** num_digits(b) + b"
   ]
  },
  {
   "cell_type": "code",
   "execution_count": 4,
   "metadata": {},
   "outputs": [],
   "source": [
    "def legacy(a: int, b: int) -> int:\n",
    "    return int(str(a) + str(b))"
   ]
  },
  {
   "cell_type": "code",
   "execution_count": 1,
   "metadata": {},
   "outputs": [],
   "source": [
    "import random\n",
    "\n",
    "# create test data\n",
    "lst = []\n",
    "for _ in range(10**6):\n",
    "    a = random.randint(10**12, 10**25)\n",
    "    b = random.randint(10**12, 10**25)\n",
    "    lst.append((a, b))\n"
   ]
  },
  {
   "cell_type": "code",
   "execution_count": 22,
   "metadata": {},
   "outputs": [],
   "source": [
    "f = legacy\n",
    "\n",
    "for a, b in lst:\n",
    "    f(a, b)"
   ]
  },
  {
   "cell_type": "code",
   "execution_count": 16,
   "metadata": {},
   "outputs": [],
   "source": [
    "# Test it fn: num_digits\n",
    "\n",
    "for n in range(1, pow(10, 7)):\n",
    "    assert num_digits(n) == len(str(n))"
   ]
  }
 ],
 "metadata": {
  "kernelspec": {
   "display_name": ".venv",
   "language": "python",
   "name": "python3"
  },
  "language_info": {
   "codemirror_mode": {
    "name": "ipython",
    "version": 3
   },
   "file_extension": ".py",
   "mimetype": "text/x-python",
   "name": "python",
   "nbconvert_exporter": "python",
   "pygments_lexer": "ipython3",
   "version": "3.13.0rc2"
  }
 },
 "nbformat": 4,
 "nbformat_minor": 2
}
