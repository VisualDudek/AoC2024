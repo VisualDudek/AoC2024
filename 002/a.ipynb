{
 "cells": [
  {
   "cell_type": "markdown",
   "metadata": {},
   "source": [
    "## Part One"
   ]
  },
  {
   "cell_type": "code",
   "execution_count": 31,
   "metadata": {},
   "outputs": [],
   "source": [
    "data = []\n",
    "\n",
    "with open('input.txt') as f:\n",
    "    for line in f:\n",
    "        data.append(line)"
   ]
  },
  {
   "cell_type": "code",
   "execution_count": 50,
   "metadata": {},
   "outputs": [],
   "source": [
    "safe_no = 0\n",
    "\n",
    "for line in data:\n",
    "    numbers = line.split()\n",
    "    adj_pairs = [(int(a), int(b)) for a, b in zip(numbers, numbers[1:])]\n",
    "    if cond_one(adj_pairs) and cond_two(adj_pairs):\n",
    "        safe_no += 1\n"
   ]
  },
  {
   "cell_type": "code",
   "execution_count": 48,
   "metadata": {},
   "outputs": [
    {
     "data": {
      "text/plain": [
       "True"
      ]
     },
     "execution_count": 48,
     "metadata": {},
     "output_type": "execute_result"
    }
   ],
   "source": [
    "cond_one(adj_pairs)"
   ]
  },
  {
   "cell_type": "code",
   "execution_count": 39,
   "metadata": {},
   "outputs": [
    {
     "data": {
      "text/plain": [
       "True"
      ]
     },
     "execution_count": 39,
     "metadata": {},
     "output_type": "execute_result"
    }
   ],
   "source": [
    "cond_two(adj_pairs)"
   ]
  },
  {
   "cell_type": "code",
   "execution_count": 33,
   "metadata": {},
   "outputs": [],
   "source": [
    "def is_valid_differ(a:int, b:int) -> bool:\n",
    "    return 1 <= abs(a-b) <= 3"
   ]
  },
  {
   "cell_type": "code",
   "execution_count": 34,
   "metadata": {},
   "outputs": [],
   "source": [
    "def sign_of_diff(a:int, b:int) -> bool:\n",
    "    if b - a >= 0: return True\n",
    "    return False"
   ]
  },
  {
   "cell_type": "code",
   "execution_count": 35,
   "metadata": {},
   "outputs": [],
   "source": [
    "# check if two adj levels diffef by at least one and at most three\n",
    "def cond_two(adj_pairs) -> bool:\n",
    "    return all(map(lambda pair: is_valid_differ(*pair), adj_pairs))"
   ]
  },
  {
   "cell_type": "code",
   "execution_count": 47,
   "metadata": {},
   "outputs": [],
   "source": [
    "# check if all inc or all dec\n",
    "def cond_one(adj_pairs) -> bool:\n",
    "    m = map(lambda pair: sign_of_diff(*pair), adj_pairs)\n",
    "    return len(set(m)) == 1"
   ]
  },
  {
   "cell_type": "markdown",
   "metadata": {},
   "source": [
    "## Part Two"
   ]
  },
  {
   "cell_type": "code",
   "execution_count": 54,
   "metadata": {},
   "outputs": [],
   "source": [
    "from typing import List"
   ]
  },
  {
   "cell_type": "code",
   "execution_count": 62,
   "metadata": {},
   "outputs": [],
   "source": [
    "# greed solution\n",
    "# drop each element and recalculate\n",
    "def can_be_fixed(numbers: List[str]):\n",
    "    res = [numbers[:i] + numbers[i+1:] for i in range(len(numbers))]\n",
    "    for numb in res:\n",
    "        adj_pairs = [(int(a), int(b)) for a, b in zip(numb, numb[1:])]\n",
    "        if cond_one(adj_pairs) and cond_two(adj_pairs):\n",
    "            return True\n",
    "\n",
    "    return False\n"
   ]
  },
  {
   "cell_type": "code",
   "execution_count": 63,
   "metadata": {},
   "outputs": [],
   "source": [
    "safe_no = 0\n",
    "\n",
    "for line in data:\n",
    "    numbers = line.split()\n",
    "    adj_pairs = [(int(a), int(b)) for a, b in zip(numbers, numbers[1:])]\n",
    "    if cond_one(adj_pairs) and cond_two(adj_pairs):\n",
    "        safe_no += 1\n",
    "    else:\n",
    "        if can_be_fixed(numbers):\n",
    "            safe_no += 1\n"
   ]
  }
 ],
 "metadata": {
  "kernelspec": {
   "display_name": ".venv",
   "language": "python",
   "name": "python3"
  },
  "language_info": {
   "codemirror_mode": {
    "name": "ipython",
    "version": 3
   },
   "file_extension": ".py",
   "mimetype": "text/x-python",
   "name": "python",
   "nbconvert_exporter": "python",
   "pygments_lexer": "ipython3",
   "version": "3.13.0rc2"
  }
 },
 "nbformat": 4,
 "nbformat_minor": 2
}
