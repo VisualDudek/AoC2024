{
 "cells": [
  {
   "cell_type": "markdown",
   "metadata": {},
   "source": [
    "# 007\n",
    "\n",
    "## PART ONE"
   ]
  },
  {
   "cell_type": "code",
   "execution_count": 1,
   "metadata": {},
   "outputs": [],
   "source": [
    "data_test=\"\"\"190: 10 19\n",
    "3267: 81 40 27\n",
    "83: 17 5\n",
    "156: 15 6\n",
    "7290: 6 8 6 15\n",
    "161011: 16 10 13\n",
    "192: 17 8 14\n",
    "21037: 9 7 18 13\n",
    "292: 11 6 16 20\"\"\""
   ]
  },
  {
   "cell_type": "code",
   "execution_count": 11,
   "metadata": {},
   "outputs": [],
   "source": [
    "def parse_input(data):\n",
    "    data = data.split(\"\\n\")\n",
    "    data = [x.split(\": \") for x in data]\n",
    "    data = tuple((int(lst[0]), tuple(int(y) for y in lst[1].split())) for lst in data)\n",
    "    return data"
   ]
  },
  {
   "cell_type": "code",
   "execution_count": 12,
   "metadata": {},
   "outputs": [
    {
     "data": {
      "text/plain": [
       "((190, (10, 19)),\n",
       " (3267, (81, 40, 27)),\n",
       " (83, (17, 5)),\n",
       " (156, (15, 6)),\n",
       " (7290, (6, 8, 6, 15)),\n",
       " (161011, (16, 10, 13)),\n",
       " (192, (17, 8, 14)),\n",
       " (21037, (9, 7, 18, 13)),\n",
       " (292, (11, 6, 16, 20)))"
      ]
     },
     "execution_count": 12,
     "metadata": {},
     "output_type": "execute_result"
    }
   ],
   "source": [
    "parse_input(data_test)"
   ]
  },
  {
   "cell_type": "code",
   "execution_count": 16,
   "metadata": {},
   "outputs": [],
   "source": [
    "from itertools import product\n",
    "\n",
    "def get_operations(length):\n",
    "    return tuple(product('+*', repeat=length))"
   ]
  },
  {
   "cell_type": "code",
   "execution_count": 17,
   "metadata": {},
   "outputs": [
    {
     "data": {
      "text/plain": [
       "(('+', '+', '+'),\n",
       " ('+', '+', '*'),\n",
       " ('+', '*', '+'),\n",
       " ('+', '*', '*'),\n",
       " ('*', '+', '+'),\n",
       " ('*', '+', '*'),\n",
       " ('*', '*', '+'),\n",
       " ('*', '*', '*'))"
      ]
     },
     "execution_count": 17,
     "metadata": {},
     "output_type": "execute_result"
    }
   ],
   "source": [
    "get_operations(3)"
   ]
  },
  {
   "cell_type": "code",
   "execution_count": 18,
   "metadata": {},
   "outputs": [],
   "source": [
    "def is_valid(sum, numbers):\n",
    "    all_operations = get_operations(len(numbers)-1)\n",
    "    for operations in all_operations:\n",
    "        res = numbers[0]\n",
    "        for i, operation in enumerate(operations):\n",
    "            if operation == '+':\n",
    "                res += numbers[i+1]\n",
    "            elif operation == '*':\n",
    "                res *= numbers[i+1]\n",
    "        if res == sum:\n",
    "            return True\n",
    "    return False"
   ]
  },
  {
   "cell_type": "code",
   "execution_count": null,
   "metadata": {},
   "outputs": [],
   "source": [
    "def sum_valid(data, lst):\n",
    "    for line, valid in zip(data, lst):\n",
    "        if is_valid(*line) != valid:\n",
    "            return False"
   ]
  },
  {
   "cell_type": "code",
   "execution_count": 25,
   "metadata": {},
   "outputs": [],
   "source": [
    "data = parse_input(data_test)\n",
    "lst = list(map(lambda x: is_valid(*x) , data))\n",
    "result = sum(value for (value, _), flag in zip(data, lst) if flag)\n"
   ]
  },
  {
   "cell_type": "code",
   "execution_count": 27,
   "metadata": {},
   "outputs": [],
   "source": [
    "with open(\"./data/007.txt\") as f:\n",
    "    data_file = f.read()"
   ]
  },
  {
   "cell_type": "code",
   "execution_count": 28,
   "metadata": {},
   "outputs": [],
   "source": [
    "data = parse_input(data_file)\n",
    "lst = list(map(lambda x: is_valid(*x) , data))\n",
    "result = sum(value for (value, _), flag in zip(data, lst) if flag)\n"
   ]
  },
  {
   "cell_type": "code",
   "execution_count": 29,
   "metadata": {},
   "outputs": [
    {
     "data": {
      "text/plain": [
       "5702958180383"
      ]
     },
     "execution_count": 29,
     "metadata": {},
     "output_type": "execute_result"
    }
   ],
   "source": [
    "result"
   ]
  },
  {
   "cell_type": "markdown",
   "metadata": {},
   "source": [
    "## Part TWO"
   ]
  },
  {
   "cell_type": "code",
   "execution_count": 31,
   "metadata": {},
   "outputs": [
    {
     "data": {
      "text/plain": [
       "((190, (10, 19)),\n",
       " (3267, (81, 40, 27)),\n",
       " (83, (17, 5)),\n",
       " (156, (15, 6)),\n",
       " (7290, (6, 8, 6, 15)),\n",
       " (161011, (16, 10, 13)),\n",
       " (192, (17, 8, 14)),\n",
       " (21037, (9, 7, 18, 13)),\n",
       " (292, (11, 6, 16, 20)))"
      ]
     },
     "execution_count": 31,
     "metadata": {},
     "output_type": "execute_result"
    }
   ],
   "source": [
    "data = parse_input(data_test)\n",
    "data"
   ]
  },
  {
   "cell_type": "code",
   "execution_count": 32,
   "metadata": {},
   "outputs": [],
   "source": [
    "from itertools import product\n",
    "\n",
    "def get_operations(length):\n",
    "    return tuple(product('+*|', repeat=length))"
   ]
  },
  {
   "cell_type": "code",
   "execution_count": null,
   "metadata": {},
   "outputs": [],
   "source": [
    "def is_valid(sum, numbers):\n",
    "    all_operations = get_operations(len(numbers)-1)\n",
    "    for operations in all_operations:\n",
    "        res = numbers[0]\n",
    "        for i, operation in enumerate(operations):\n",
    "            if operation == '+':\n",
    "                res += numbers[i+1]\n",
    "            elif operation == '*':\n",
    "                res *= numbers[i+1]\n",
    "            elif operation == '|':\n",
    "                res = int(str(res) + str(numbers[i+1]))\n",
    "        if res == sum:\n",
    "            return True\n",
    "    return False"
   ]
  }
 ],
 "metadata": {
  "kernelspec": {
   "display_name": ".venv",
   "language": "python",
   "name": "python3"
  },
  "language_info": {
   "codemirror_mode": {
    "name": "ipython",
    "version": 3
   },
   "file_extension": ".py",
   "mimetype": "text/x-python",
   "name": "python",
   "nbconvert_exporter": "python",
   "pygments_lexer": "ipython3",
   "version": "3.13.0rc2"
  }
 },
 "nbformat": 4,
 "nbformat_minor": 2
}
