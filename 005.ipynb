{
 "cells": [
  {
   "cell_type": "markdown",
   "metadata": {},
   "source": [
    "## Part ONE"
   ]
  },
  {
   "cell_type": "code",
   "execution_count": 36,
   "metadata": {},
   "outputs": [],
   "source": [
    "data_test = \"\"\"47|53\n",
    "97|13\n",
    "97|61\n",
    "97|47\n",
    "75|29\n",
    "61|13\n",
    "75|53\n",
    "29|13\n",
    "97|29\n",
    "53|29\n",
    "61|53\n",
    "97|53\n",
    "61|29\n",
    "47|13\n",
    "75|47\n",
    "97|75\n",
    "47|61\n",
    "75|61\n",
    "47|29\n",
    "75|13\n",
    "53|13\n",
    "\n",
    "75,47,61,53,29\n",
    "97,61,53,29,13\n",
    "75,29,13\n",
    "75,97,47,61,53\n",
    "61,13,29\n",
    "97,13,75,29,47\n",
    "\"\"\""
   ]
  },
  {
   "cell_type": "code",
   "execution_count": 38,
   "metadata": {},
   "outputs": [],
   "source": [
    "data = data_test.splitlines()\n",
    "empty_index = data.index('')\n",
    "rules_data = data[:empty_index]\n",
    "update_data = data[empty_index+1:]"
   ]
  },
  {
   "cell_type": "code",
   "execution_count": 52,
   "metadata": {},
   "outputs": [],
   "source": [
    "with open('./data/005.txt') as file:\n",
    "    data_file = file.read()\n",
    "\n",
    "\n",
    "data = data_file.splitlines()\n",
    "empty_index = data.index('')\n",
    "rules_data = data[:empty_index]\n",
    "update_data = data[empty_index+1:]"
   ]
  },
  {
   "cell_type": "code",
   "execution_count": 8,
   "metadata": {},
   "outputs": [],
   "source": [
    "from collections import defaultdict"
   ]
  },
  {
   "cell_type": "code",
   "execution_count": 39,
   "metadata": {},
   "outputs": [],
   "source": [
    "# convert rules_data to dict\n",
    "def rules_to_dict(rules_data):\n",
    "    rules = defaultdict(list)\n",
    "    for rule in rules_data:\n",
    "        key, value = rule.split('|')\n",
    "        key = int(key)\n",
    "        value = int(value)\n",
    "        rules[key].append(value)\n",
    "    return rules"
   ]
  },
  {
   "cell_type": "code",
   "execution_count": 28,
   "metadata": {},
   "outputs": [],
   "source": [
    "# convert update_data to list of lists\n",
    "def update_to_list(update_data):\n",
    "    updates = []\n",
    "    for update in update_data:\n",
    "        updates.append(list(map(int, update.split(','))))\n",
    "    return updates"
   ]
  },
  {
   "cell_type": "code",
   "execution_count": 53,
   "metadata": {},
   "outputs": [],
   "source": [
    "data_list = update_to_list(update_data)"
   ]
  },
  {
   "cell_type": "code",
   "execution_count": 54,
   "metadata": {},
   "outputs": [],
   "source": [
    "rules = rules_to_dict(rules_data)"
   ]
  },
  {
   "cell_type": "code",
   "execution_count": 31,
   "metadata": {},
   "outputs": [],
   "source": [
    "# check list against rules\n",
    "def check_list(list, rules):\n",
    "    for i in range(len(list)):\n",
    "        rule = rules.get(list[i], None)\n",
    "        if rule is not None:\n",
    "            # iterate over rule\n",
    "            for value in rule:\n",
    "                # if value is in left to list[i] than return False\n",
    "                if value in list[:i]:\n",
    "                    return False\n",
    "    return True"
   ]
  },
  {
   "cell_type": "code",
   "execution_count": 55,
   "metadata": {},
   "outputs": [],
   "source": [
    "mapping = list(map(lambda x: check_list(x, rules), data_list))"
   ]
  },
  {
   "cell_type": "code",
   "execution_count": 57,
   "metadata": {},
   "outputs": [],
   "source": [
    "# get only lists from data_list that are True\n",
    "result = [data_list[i] for i in range(len(data_list)) if mapping[i]]"
   ]
  },
  {
   "cell_type": "code",
   "execution_count": 58,
   "metadata": {},
   "outputs": [],
   "source": [
    "# for each list in result, get middle element and sum them\n",
    "result_sum = sum([lst[len(lst) // 2] for lst in result])\n"
   ]
  },
  {
   "cell_type": "markdown",
   "metadata": {},
   "source": [
    "## Part TWO"
   ]
  },
  {
   "cell_type": "code",
   "execution_count": 59,
   "metadata": {},
   "outputs": [],
   "source": [
    "# get only lists from data_list that are False\n",
    "incorrectly_ordered = [data_list[i] for i in range(len(data_list)) if not mapping[i]]"
   ]
  },
  {
   "cell_type": "code",
   "execution_count": 60,
   "metadata": {},
   "outputs": [],
   "source": [
    "# swap incorrect elements until list is correct\n",
    "def swap_incorrect(list, rules):\n",
    "    swap = True\n",
    "    while swap:\n",
    "        swap = False\n",
    "        for i in range(len(list)):\n",
    "            rule = rules.get(list[i], None)\n",
    "            if rule is not None:\n",
    "                # iterate over rule\n",
    "                for value in rule:\n",
    "                    # if value is in left to list[i] than return False\n",
    "                    if value in list[:i]:\n",
    "                        idx = list.index(value)\n",
    "                        swap = True\n",
    "                        list[i], list[idx] = list[idx], list[i]"
   ]
  },
  {
   "cell_type": "code",
   "execution_count": 61,
   "metadata": {},
   "outputs": [],
   "source": [
    "for lst in incorrectly_ordered:\n",
    "    swap_incorrect(lst, rules)"
   ]
  },
  {
   "cell_type": "code",
   "execution_count": 62,
   "metadata": {},
   "outputs": [],
   "source": [
    "# for each list in result, get middle element and sum them\n",
    "result_sum_two = sum([lst[len(lst) // 2] for lst in incorrectly_ordered])\n"
   ]
  }
 ],
 "metadata": {
  "kernelspec": {
   "display_name": ".venv",
   "language": "python",
   "name": "python3"
  },
  "language_info": {
   "codemirror_mode": {
    "name": "ipython",
    "version": 3
   },
   "file_extension": ".py",
   "mimetype": "text/x-python",
   "name": "python",
   "nbconvert_exporter": "python",
   "pygments_lexer": "ipython3",
   "version": "3.13.0rc2"
  }
 },
 "nbformat": 4,
 "nbformat_minor": 2
}
